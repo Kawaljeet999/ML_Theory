{
 "cells": [
  {
   "cell_type": "code",
   "execution_count": 8,
   "id": "8b6f8340-cde9-41a2-bc73-a6f53d1f55d6",
   "metadata": {},
   "outputs": [],
   "source": [
    "# Numpy is space efficient and used in backend of  pandas and plootiing in matplotlib "
   ]
  },
  {
   "cell_type": "code",
   "execution_count": 3,
   "id": "28970e4a-4777-4434-a520-7cb3a10e469b",
   "metadata": {},
   "outputs": [],
   "source": [
    "import numpy as np"
   ]
  },
  {
   "cell_type": "markdown",
   "id": "0caa9fff-384f-4bfd-905c-4d2106fd0856",
   "metadata": {},
   "source": [
    "# The Basics"
   ]
  },
  {
   "cell_type": "code",
   "execution_count": 57,
   "id": "ddc6b3e1-6d17-4fab-b290-17c82c348702",
   "metadata": {},
   "outputs": [
    {
     "name": "stdout",
     "output_type": "stream",
     "text": [
      "[1 2 3]\n"
     ]
    }
   ],
   "source": [
    "a = np.array([1,2,3], dtype = 'int16') # default datatype due to int16 it only takes 2bytes \n",
    "print(a)"
   ]
  },
  {
   "cell_type": "code",
   "execution_count": 52,
   "id": "c3a72bd8-8fc7-41cc-8295-218f8941d1f8",
   "metadata": {},
   "outputs": [
    {
     "name": "stdout",
     "output_type": "stream",
     "text": [
      "[[1. 2. 3.]\n",
      " [4. 5. 6.]]\n"
     ]
    }
   ],
   "source": [
    "b = np.array([[1.0,2,3],[4,5,6]])\n",
    "print(b)"
   ]
  },
  {
   "cell_type": "code",
   "execution_count": 54,
   "id": "af224147-2022-4316-aa70-700341961768",
   "metadata": {},
   "outputs": [
    {
     "name": "stdout",
     "output_type": "stream",
     "text": [
      "[[1 2 3]\n",
      " [4 5 6]]\n"
     ]
    }
   ],
   "source": [
    "c = np.array([[1,2,3],[4,5,6]])\n",
    "print(c)"
   ]
  },
  {
   "cell_type": "code",
   "execution_count": 15,
   "id": "16ad3e15-4904-4c3e-800f-d929e5143170",
   "metadata": {},
   "outputs": [
    {
     "data": {
      "text/plain": [
       "1"
      ]
     },
     "execution_count": 15,
     "metadata": {},
     "output_type": "execute_result"
    }
   ],
   "source": [
    "# Get Dimension\n",
    "a.ndim"
   ]
  },
  {
   "cell_type": "code",
   "execution_count": 16,
   "id": "b0782e15-d000-48d4-87c0-f3332665bdc6",
   "metadata": {},
   "outputs": [
    {
     "data": {
      "text/plain": [
       "2"
      ]
     },
     "execution_count": 16,
     "metadata": {},
     "output_type": "execute_result"
    }
   ],
   "source": [
    "# Get Dimension\n",
    "b.ndim"
   ]
  },
  {
   "cell_type": "code",
   "execution_count": 18,
   "id": "d6377409-8b19-4246-a89c-142760645e7c",
   "metadata": {},
   "outputs": [
    {
     "data": {
      "text/plain": [
       "(3,)"
      ]
     },
     "execution_count": 18,
     "metadata": {},
     "output_type": "execute_result"
    }
   ],
   "source": [
    "# Get shape -- here it gives row commaa columns\n",
    "a.shape"
   ]
  },
  {
   "cell_type": "code",
   "execution_count": 19,
   "id": "87d854f6-f6d6-494e-a93f-56576fa4a102",
   "metadata": {},
   "outputs": [
    {
     "data": {
      "text/plain": [
       "(2, 3)"
      ]
     },
     "execution_count": 19,
     "metadata": {},
     "output_type": "execute_result"
    }
   ],
   "source": [
    "b.shape"
   ]
  },
  {
   "cell_type": "code",
   "execution_count": 27,
   "id": "a0ddea1a-0c7b-4090-a9fe-a7200b156f92",
   "metadata": {},
   "outputs": [
    {
     "data": {
      "text/plain": [
       "dtype('int16')"
      ]
     },
     "execution_count": 27,
     "metadata": {},
     "output_type": "execute_result"
    }
   ],
   "source": [
    "# Get type\n",
    "a.dtype"
   ]
  },
  {
   "cell_type": "code",
   "execution_count": 39,
   "id": "5ac89fe5-1cf9-4f4d-b6a5-cf4353e6d15b",
   "metadata": {},
   "outputs": [
    {
     "data": {
      "text/plain": [
       "2"
      ]
     },
     "execution_count": 39,
     "metadata": {},
     "output_type": "execute_result"
    }
   ],
   "source": [
    "# Get size --- in bytes of each element\n",
    "a.itemsize"
   ]
  },
  {
   "cell_type": "code",
   "execution_count": 55,
   "id": "a147f94d-fde4-45a4-bba2-13e2e1809690",
   "metadata": {},
   "outputs": [
    {
     "data": {
      "text/plain": [
       "8"
      ]
     },
     "execution_count": 55,
     "metadata": {},
     "output_type": "execute_result"
    }
   ],
   "source": [
    "b.itemsize"
   ]
  },
  {
   "cell_type": "code",
   "execution_count": 56,
   "id": "fbeb321b-7dca-4351-b9a9-7596d8da96c0",
   "metadata": {},
   "outputs": [
    {
     "data": {
      "text/plain": [
       "4"
      ]
     },
     "execution_count": 56,
     "metadata": {},
     "output_type": "execute_result"
    }
   ],
   "source": [
    "c.itemsize"
   ]
  },
  {
   "cell_type": "code",
   "execution_count": 48,
   "id": "4dd9674e-03f1-4afa-933e-fbd01f115f33",
   "metadata": {},
   "outputs": [
    {
     "data": {
      "text/plain": [
       "3"
      ]
     },
     "execution_count": 48,
     "metadata": {},
     "output_type": "execute_result"
    }
   ],
   "source": [
    "# Get size -- give total elements\n",
    "a.size\n",
    "\n"
   ]
  },
  {
   "cell_type": "code",
   "execution_count": 49,
   "id": "322157d1-65e3-41c8-8a48-0548b6b9c9c5",
   "metadata": {},
   "outputs": [
    {
     "data": {
      "text/plain": [
       "6"
      ]
     },
     "execution_count": 49,
     "metadata": {},
     "output_type": "execute_result"
    }
   ],
   "source": [
    "b.size"
   ]
  },
  {
   "cell_type": "code",
   "execution_count": 44,
   "id": "bf24f2aa-eee7-4484-bdd0-6d5f6510fd01",
   "metadata": {},
   "outputs": [
    {
     "data": {
      "text/plain": [
       "6"
      ]
     },
     "execution_count": 44,
     "metadata": {},
     "output_type": "execute_result"
    }
   ],
   "source": [
    "# Get Total Size -- give size of array including elemenet size\n",
    "a.size * a.itemsize"
   ]
  },
  {
   "cell_type": "code",
   "execution_count": 45,
   "id": "ee78c176-58c6-46f6-84e5-02f54193e0e8",
   "metadata": {},
   "outputs": [
    {
     "data": {
      "text/plain": [
       "6"
      ]
     },
     "execution_count": 45,
     "metadata": {},
     "output_type": "execute_result"
    }
   ],
   "source": [
    "# Get total size --- give total size of array including element Size / Aliter\n",
    "a.nbytes"
   ]
  },
  {
   "cell_type": "markdown",
   "id": "44a66304-4a79-4426-817f-195360d6fd3e",
   "metadata": {},
   "source": [
    " # Acessing/Changing specific elemens ,rows, Columns etc"
   ]
  },
  {
   "cell_type": "code",
   "execution_count": 3,
   "id": "8c9e377e-4bab-4378-9d40-724be042a64d",
   "metadata": {},
   "outputs": [],
   "source": [
    "import numpy as np"
   ]
  },
  {
   "cell_type": "code",
   "execution_count": 36,
   "id": "8143a110-81e3-42f4-b3d6-0c90c1a57483",
   "metadata": {},
   "outputs": [
    {
     "name": "stdout",
     "output_type": "stream",
     "text": [
      "[[ 1  2  3  4  5  6  7]\n",
      " [ 8  9 10 11 12 13 14]]\n"
     ]
    }
   ],
   "source": [
    "a = np.array([[1,2,3,4,5,6,7],[8,9,10,11,12,13,14]])\n",
    "print(a)"
   ]
  },
  {
   "cell_type": "code",
   "execution_count": 34,
   "id": "cb6bbc42-ba29-4b6f-bd06-0cd672d9e1bb",
   "metadata": {},
   "outputs": [
    {
     "data": {
      "text/plain": [
       "13"
      ]
     },
     "execution_count": 34,
     "metadata": {},
     "output_type": "execute_result"
    }
   ],
   "source": [
    "# Get a specific element [row,column]\n",
    "a[1, 5]  # it is just like list slicing"
   ]
  },
  {
   "cell_type": "code",
   "execution_count": 13,
   "id": "f358fab4-bde9-4aa9-8fc5-9c5a3945a055",
   "metadata": {},
   "outputs": [
    {
     "name": "stdout",
     "output_type": "stream",
     "text": [
      "[1 2 3 4]\n"
     ]
    }
   ],
   "source": [
    "b = np.array([1,2,3,4])\n",
    "print(b)"
   ]
  },
  {
   "cell_type": "code",
   "execution_count": 17,
   "id": "e448fb09-f4e7-41a0-9f83-ab6dc74a098f",
   "metadata": {},
   "outputs": [
    {
     "data": {
      "text/plain": [
       "2"
      ]
     },
     "execution_count": 17,
     "metadata": {},
     "output_type": "execute_result"
    }
   ],
   "source": [
    "# Get a specific element [index]\n",
    "b[1]"
   ]
  },
  {
   "cell_type": "code",
   "execution_count": 25,
   "id": "c59d1758-1b7e-440c-8366-ddbe25625f09",
   "metadata": {},
   "outputs": [
    {
     "data": {
      "text/plain": [
       "array([1, 2, 3, 4, 5, 6, 7])"
      ]
     },
     "execution_count": 25,
     "metadata": {},
     "output_type": "execute_result"
    }
   ],
   "source": [
    "# Get a specific row\n",
    "a[0, : ]   # zero row then : mean full array of row zero"
   ]
  },
  {
   "cell_type": "code",
   "execution_count": 43,
   "id": "44f77c50-0452-4101-95e5-b70d0dd82922",
   "metadata": {},
   "outputs": [
    {
     "data": {
      "text/plain": [
       "array([2, 9])"
      ]
     },
     "execution_count": 43,
     "metadata": {},
     "output_type": "execute_result"
    }
   ],
   "source": [
    "# Get a specific column  : mean all row and get 1st column elements\n",
    "a[: , 1]"
   ]
  },
  {
   "cell_type": "code",
   "execution_count": 37,
   "id": "e61767c4-7de2-4c0b-8844-ef4d0d8cdbf3",
   "metadata": {},
   "outputs": [
    {
     "data": {
      "text/plain": [
       "array([2, 4, 6])"
      ]
     },
     "execution_count": 37,
     "metadata": {},
     "output_type": "execute_result"
    }
   ],
   "source": [
    "# Getting a little fancy [startindex:endindex:stepsize]\n",
    "a[0, 1:6:2] # for 0th row "
   ]
  },
  {
   "cell_type": "code",
   "execution_count": 38,
   "id": "8af38db3-51d1-4ea4-85e2-62bb04184f95",
   "metadata": {},
   "outputs": [
    {
     "data": {
      "text/plain": [
       "array([2, 4, 6])"
      ]
     },
     "execution_count": 38,
     "metadata": {},
     "output_type": "execute_result"
    }
   ],
   "source": [
    "a[0, 1:-1:2]"
   ]
  },
  {
   "cell_type": "code",
   "execution_count": 40,
   "id": "c7ff3e9b-056f-404e-a7d8-0d8a49803eba",
   "metadata": {},
   "outputs": [
    {
     "name": "stdout",
     "output_type": "stream",
     "text": [
      "[[ 1  2  3  4  5  6  7]\n",
      " [ 8  9 10 11 12 20 14]]\n",
      "[[ 1  2  5  4  5  6  7]\n",
      " [ 8  9  5 11 12 20 14]]\n"
     ]
    }
   ],
   "source": [
    "a[1,5] = 20\n",
    "print(a)\n",
    "a[:,2] = 5\n",
    "print(a)"
   ]
  },
  {
   "cell_type": "code",
   "execution_count": 41,
   "id": "f07b42fc-9298-465f-9645-f4e70ee886d0",
   "metadata": {},
   "outputs": [
    {
     "name": "stdout",
     "output_type": "stream",
     "text": [
      "[[ 1  2  1  4  5  6  7]\n",
      " [ 8  9  2 11 12 20 14]]\n"
     ]
    }
   ],
   "source": [
    "a[:,2] = [1,2]\n",
    "print(a)"
   ]
  },
  {
   "cell_type": "markdown",
   "id": "4b9ca629-87ca-4778-80be-6417b804e8de",
   "metadata": {},
   "source": [
    "## 3d array"
   ]
  },
  {
   "cell_type": "code",
   "execution_count": 2,
   "id": "a13cee89-de18-4ab5-8ecc-5007fac8799f",
   "metadata": {},
   "outputs": [],
   "source": [
    "import numpy as np"
   ]
  },
  {
   "cell_type": "code",
   "execution_count": 3,
   "id": "1c446a4a-77fc-4109-920e-a0a2a535591f",
   "metadata": {},
   "outputs": [
    {
     "name": "stdout",
     "output_type": "stream",
     "text": [
      "[[[1 2]\n",
      "  [3 4]]\n",
      "\n",
      " [[5 6]\n",
      "  [7 8]]]\n"
     ]
    }
   ],
   "source": [
    "b = np.array([[[1,2],[3,4]],[[5,6],[7,8]]])\n",
    "print(b)"
   ]
  },
  {
   "cell_type": "code",
   "execution_count": 1,
   "id": "39f5c66e-ac45-445c-b26e-864cb110697d",
   "metadata": {},
   "outputs": [
    {
     "ename": "NameError",
     "evalue": "name 'b' is not defined",
     "output_type": "error",
     "traceback": [
      "\u001b[1;31m---------------------------------------------------------------------------\u001b[0m",
      "\u001b[1;31mNameError\u001b[0m                                 Traceback (most recent call last)",
      "Cell \u001b[1;32mIn[1], line 2\u001b[0m\n\u001b[0;32m      1\u001b[0m \u001b[38;5;66;03m# Get specific element (work outside in)\u001b[39;00m\n\u001b[1;32m----> 2\u001b[0m \u001b[43mb\u001b[49m[\u001b[38;5;241m0\u001b[39m,\u001b[38;5;241m1\u001b[39m,\u001b[38;5;241m1\u001b[39m]\n",
      "\u001b[1;31mNameError\u001b[0m: name 'b' is not defined"
     ]
    }
   ],
   "source": [
    "# Get specific element (work outside in)\n",
    "b[0,1,1]"
   ]
  },
  {
   "cell_type": "code",
   "execution_count": 8,
   "id": "d44cd95e-4e77-47d6-b5d8-e6a8031645b7",
   "metadata": {},
   "outputs": [
    {
     "data": {
      "text/plain": [
       "array([4, 8])"
      ]
     },
     "execution_count": 8,
     "metadata": {},
     "output_type": "execute_result"
    }
   ],
   "source": [
    "b[:,1,1] # : mean all"
   ]
  },
  {
   "cell_type": "code",
   "execution_count": 9,
   "id": "ff34ba18-5faf-4193-a165-591189f3f917",
   "metadata": {},
   "outputs": [
    {
     "data": {
      "text/plain": [
       "array([[1, 2],\n",
       "       [5, 6]])"
      ]
     },
     "execution_count": 9,
     "metadata": {},
     "output_type": "execute_result"
    }
   ],
   "source": [
    "b[:,0,:]"
   ]
  },
  {
   "cell_type": "code",
   "execution_count": 15,
   "id": "3342e2df-cd31-459a-8819-f493815b68e7",
   "metadata": {},
   "outputs": [],
   "source": [
    "b[:,1,:] = [[1,2],[9,0]]"
   ]
  },
  {
   "cell_type": "code",
   "execution_count": 17,
   "id": "ba3dcc21-db5b-4087-8e19-7f7ef0cbe232",
   "metadata": {},
   "outputs": [
    {
     "name": "stdout",
     "output_type": "stream",
     "text": [
      "[[[1 2]\n",
      "  [1 2]]\n",
      "\n",
      " [[5 6]\n",
      "  [9 0]]]\n"
     ]
    }
   ],
   "source": [
    "print(b)"
   ]
  },
  {
   "cell_type": "markdown",
   "id": "e9be63ff-638d-49d9-b6bb-aeec1e6b8735",
   "metadata": {},
   "source": [
    "# Initializing Different Types of Arrays"
   ]
  },
  {
   "cell_type": "code",
   "execution_count": 24,
   "id": "bd86485b-0064-4dd3-8edb-85cc923bcd43",
   "metadata": {},
   "outputs": [
    {
     "data": {
      "text/plain": [
       "array([0., 0., 0., 0., 0.])"
      ]
     },
     "execution_count": 24,
     "metadata": {},
     "output_type": "execute_result"
    }
   ],
   "source": [
    "# All 0s matrix\n",
    "np.zeros(5)  # 1d array of 5 zeros"
   ]
  },
  {
   "cell_type": "code",
   "execution_count": 26,
   "id": "288757c8-3232-4f43-a0b2-2cb596423bab",
   "metadata": {},
   "outputs": [
    {
     "data": {
      "text/plain": [
       "array([[0., 0., 0.],\n",
       "       [0., 0., 0.]])"
      ]
     },
     "execution_count": 26,
     "metadata": {},
     "output_type": "execute_result"
    }
   ],
   "source": [
    "np.zeros((2,3)) # 2d matrix of 2X3 size of zeroes"
   ]
  },
  {
   "cell_type": "code",
   "execution_count": 22,
   "id": "3cebab63-1b62-4b0b-a703-1b25baa592e6",
   "metadata": {},
   "outputs": [
    {
     "data": {
      "text/plain": [
       "array([[[0., 0., 0.],\n",
       "        [0., 0., 0.],\n",
       "        [0., 0., 0.]],\n",
       "\n",
       "       [[0., 0., 0.],\n",
       "        [0., 0., 0.],\n",
       "        [0., 0., 0.]]])"
      ]
     },
     "execution_count": 22,
     "metadata": {},
     "output_type": "execute_result"
    }
   ],
   "source": [
    "np.zeros((2,3,3))"
   ]
  },
  {
   "cell_type": "code",
   "execution_count": 27,
   "id": "2de1c62f-0bcb-46a9-b07b-417d1fc53ea3",
   "metadata": {},
   "outputs": [
    {
     "data": {
      "text/plain": [
       "array([[[[0., 0.],\n",
       "         [0., 0.],\n",
       "         [0., 0.]],\n",
       "\n",
       "        [[0., 0.],\n",
       "         [0., 0.],\n",
       "         [0., 0.]],\n",
       "\n",
       "        [[0., 0.],\n",
       "         [0., 0.],\n",
       "         [0., 0.]]],\n",
       "\n",
       "\n",
       "       [[[0., 0.],\n",
       "         [0., 0.],\n",
       "         [0., 0.]],\n",
       "\n",
       "        [[0., 0.],\n",
       "         [0., 0.],\n",
       "         [0., 0.]],\n",
       "\n",
       "        [[0., 0.],\n",
       "         [0., 0.],\n",
       "         [0., 0.]]]])"
      ]
     },
     "execution_count": 27,
     "metadata": {},
     "output_type": "execute_result"
    }
   ],
   "source": [
    "np.zeros((2,3,3,2))"
   ]
  },
  {
   "cell_type": "code",
   "execution_count": 28,
   "id": "3eb2ca41-3dd2-4f82-8c01-93f3b0ac0343",
   "metadata": {},
   "outputs": [
    {
     "data": {
      "text/plain": [
       "array([[[1, 1],\n",
       "        [1, 1]],\n",
       "\n",
       "       [[1, 1],\n",
       "        [1, 1]],\n",
       "\n",
       "       [[1, 1],\n",
       "        [1, 1]],\n",
       "\n",
       "       [[1, 1],\n",
       "        [1, 1]]])"
      ]
     },
     "execution_count": 28,
     "metadata": {},
     "output_type": "execute_result"
    }
   ],
   "source": [
    "# All 1s Matrix\n",
    "np.ones((4,2,2),dtype = 'int32')"
   ]
  },
  {
   "cell_type": "code",
   "execution_count": 31,
   "id": "cbb1025d-7123-45be-a337-04d510be9d9f",
   "metadata": {},
   "outputs": [
    {
     "data": {
      "text/plain": [
       "array([[99, 99],\n",
       "       [99, 99]])"
      ]
     },
     "execution_count": 31,
     "metadata": {},
     "output_type": "execute_result"
    }
   ],
   "source": [
    "# Any other number \n",
    "np.full((2,2),99) # here 2X2 matrix with value 99"
   ]
  },
  {
   "cell_type": "code",
   "execution_count": 37,
   "id": "8d8153d3-39b6-4e2f-83ac-d5b6fcd1184c",
   "metadata": {},
   "outputs": [
    {
     "data": {
      "text/plain": [
       "array([[4, 4, 4, 4, 4, 4, 4],\n",
       "       [4, 4, 4, 4, 4, 4, 4]])"
      ]
     },
     "execution_count": 37,
     "metadata": {},
     "output_type": "execute_result"
    }
   ],
   "source": [
    "# Any other number (full_like)\n",
    "np.full(a.shape,4)  # it print matrix of size of a with value of each element is 4"
   ]
  },
  {
   "cell_type": "code",
   "execution_count": 38,
   "id": "9f874197-665c-4c3f-a58d-cdffed0173f5",
   "metadata": {},
   "outputs": [
    {
     "data": {
      "text/plain": [
       "array([[4, 4, 4, 4, 4, 4, 4],\n",
       "       [4, 4, 4, 4, 4, 4, 4]])"
      ]
     },
     "execution_count": 38,
     "metadata": {},
     "output_type": "execute_result"
    }
   ],
   "source": [
    "# Alither\n",
    "np.full_like(a,4)"
   ]
  },
  {
   "cell_type": "code",
   "execution_count": 42,
   "id": "d14ab87a-1d52-4c07-beae-43b6d4da9b55",
   "metadata": {},
   "outputs": [
    {
     "data": {
      "text/plain": [
       "array([[0.51515506, 0.52849077],\n",
       "       [0.07635971, 0.25113139],\n",
       "       [0.6790645 , 0.55338286],\n",
       "       [0.70941537, 0.2891144 ]])"
      ]
     },
     "execution_count": 42,
     "metadata": {},
     "output_type": "execute_result"
    }
   ],
   "source": [
    "# Random decimal numbers\n",
    "np.random.rand(4,2)  # it gives random decimal numbers of size of matrix is 4X2"
   ]
  },
  {
   "cell_type": "code",
   "execution_count": 43,
   "id": "5799085e-546c-4216-a7e3-592ec35aec3e",
   "metadata": {},
   "outputs": [
    {
     "data": {
      "text/plain": [
       "array([[[0.77368571, 0.19235562, 0.58451275],\n",
       "        [0.95710979, 0.43555987, 0.989571  ]],\n",
       "\n",
       "       [[0.08439941, 0.36923272, 0.70727794],\n",
       "        [0.17230033, 0.45052595, 0.29911665]],\n",
       "\n",
       "       [[0.58095533, 0.40067813, 0.38486619],\n",
       "        [0.86565576, 0.9592272 , 0.1601438 ]],\n",
       "\n",
       "       [[0.51725921, 0.76851444, 0.03358193],\n",
       "        [0.88361588, 0.40425901, 0.8663435 ]]])"
      ]
     },
     "execution_count": 43,
     "metadata": {},
     "output_type": "execute_result"
    }
   ],
   "source": [
    "np.random.rand(4,2,3)"
   ]
  },
  {
   "cell_type": "code",
   "execution_count": 44,
   "id": "05037033-f2c4-4f31-adaa-5da2f670d462",
   "metadata": {},
   "outputs": [
    {
     "data": {
      "text/plain": [
       "array([[0.04023435, 0.93232199, 0.84012744, 0.64129118, 0.61490539,\n",
       "        0.28126909, 0.42946177],\n",
       "       [0.02910875, 0.96190579, 0.02697547, 0.43452633, 0.12433196,\n",
       "        0.28304079, 0.2408409 ]])"
      ]
     },
     "execution_count": 44,
     "metadata": {},
     "output_type": "execute_result"
    }
   ],
   "source": [
    "np.random.random_sample(a.shape)  # the size of matrix is same as size of matrix a filled with random decimal numbers"
   ]
  },
  {
   "cell_type": "code",
   "execution_count": 52,
   "id": "a2a345a8-867c-4c7a-8508-cb2b1836139d",
   "metadata": {},
   "outputs": [
    {
     "data": {
      "text/plain": [
       "1"
      ]
     },
     "execution_count": 52,
     "metadata": {},
     "output_type": "execute_result"
    }
   ],
   "source": [
    "# Random integer values\n",
    "np.random.randint(7)   # it has 7 as upper bound where 0 can be included"
   ]
  },
  {
   "cell_type": "code",
   "execution_count": 53,
   "id": "84711b4f-223e-486e-aa3a-2e6864ceb829",
   "metadata": {},
   "outputs": [
    {
     "data": {
      "text/plain": [
       "array([[1, 5, 5],\n",
       "       [4, 2, 2],\n",
       "       [3, 2, 0]])"
      ]
     },
     "execution_count": 53,
     "metadata": {},
     "output_type": "execute_result"
    }
   ],
   "source": [
    "np.random.randint(7, size=(3,3))  # Matrix of size 3X3 with random numbers between 0(included) to 7(excluded)"
   ]
  },
  {
   "cell_type": "code",
   "execution_count": 54,
   "id": "763ec89c-46d6-4819-b413-e9f6b8f07cb3",
   "metadata": {},
   "outputs": [
    {
     "data": {
      "text/plain": [
       "array([[5, 6, 5],\n",
       "       [5, 5, 5],\n",
       "       [4, 5, 6]])"
      ]
     },
     "execution_count": 54,
     "metadata": {},
     "output_type": "execute_result"
    }
   ],
   "source": [
    "np.random.randint(4,7, size=(3,3)) # Matrix of size 3X3 with random numbers between 4(included) to 7(excluded)"
   ]
  },
  {
   "cell_type": "code",
   "execution_count": 56,
   "id": "02b01e37-be73-4c2a-9ebf-a3a60eef5b69",
   "metadata": {},
   "outputs": [
    {
     "data": {
      "text/plain": [
       "array([[-1,  6,  6],\n",
       "       [ 3,  1,  5],\n",
       "       [ 6,  2,  0]])"
      ]
     },
     "execution_count": 56,
     "metadata": {},
     "output_type": "execute_result"
    }
   ],
   "source": [
    "np.random.randint(-4,7, size=(3,3))"
   ]
  },
  {
   "cell_type": "code",
   "execution_count": 58,
   "id": "3d0dd19c-13b7-489b-aa64-88118205c2e1",
   "metadata": {},
   "outputs": [
    {
     "data": {
      "text/plain": [
       "array([[1., 0., 0., 0., 0.],\n",
       "       [0., 1., 0., 0., 0.],\n",
       "       [0., 0., 1., 0., 0.],\n",
       "       [0., 0., 0., 1., 0.],\n",
       "       [0., 0., 0., 0., 1.]])"
      ]
     },
     "execution_count": 58,
     "metadata": {},
     "output_type": "execute_result"
    }
   ],
   "source": [
    "# The identity matrix\n",
    "np.identity(5) # by default identity matrix is a square matrix"
   ]
  },
  {
   "cell_type": "code",
   "execution_count": 72,
   "id": "1151d707-90a0-4706-8a85-a2f97fec5777",
   "metadata": {},
   "outputs": [
    {
     "name": "stdout",
     "output_type": "stream",
     "text": [
      "[[1 2 3]\n",
      " [1 2 3]\n",
      " [1 2 3]]\n"
     ]
    }
   ],
   "source": [
    "# Repeat an array\n",
    "arr = np.array([[1,2,3]])\n",
    "r1 = np.repeat(arr,3,axis = 0)  # 3X3 Matrix with axis is zero mean vertical matrix and if 1 mean horizontal matrix\n",
    "print(r1)"
   ]
  },
  {
   "cell_type": "code",
   "execution_count": 75,
   "id": "72cd0dd3-1487-4197-9a9e-2ef46e3423d1",
   "metadata": {},
   "outputs": [
    {
     "name": "stdout",
     "output_type": "stream",
     "text": [
      "[[1. 1. 1. 1. 1.]\n",
      " [1. 1. 1. 1. 1.]\n",
      " [1. 1. 1. 1. 1.]\n",
      " [1. 1. 1. 1. 1.]\n",
      " [1. 1. 1. 1. 1.]]\n",
      "[[0. 0. 0.]\n",
      " [0. 9. 0.]\n",
      " [0. 0. 0.]]\n",
      "[[1. 1. 1. 1. 1.]\n",
      " [1. 0. 0. 0. 1.]\n",
      " [1. 0. 9. 0. 1.]\n",
      " [1. 0. 0. 0. 1.]\n",
      " [1. 1. 1. 1. 1.]]\n"
     ]
    }
   ],
   "source": [
    "output = np.ones((5,5))\n",
    "print(output)\n",
    "\n",
    "z = np.zeros((3,3))\n",
    "z[1,1] = 9\n",
    "print(z)\n",
    "\n",
    "output[1:4,1:4] = z\n",
    "print(output)"
   ]
  },
  {
   "cell_type": "markdown",
   "id": "24540f03-2105-43ec-89a9-c92088dd546a",
   "metadata": {},
   "source": [
    "#### Be careful when copying arrays"
   ]
  },
  {
   "cell_type": "code",
   "execution_count": 81,
   "id": "6c3866ff-f3ec-45e2-b2cc-e2ec8220b40b",
   "metadata": {},
   "outputs": [
    {
     "name": "stdout",
     "output_type": "stream",
     "text": [
      "[101   2   3]\n",
      "[101   2   3]\n"
     ]
    }
   ],
   "source": [
    "a = np.array([1,2,3])\n",
    "b = a   # you see that we change value of b then it will change value of a also because a did'nt go as a copy to b it gives address of a to b\n",
    "b[0] = 101\n",
    "print(a)\n",
    "print(b)"
   ]
  },
  {
   "cell_type": "code",
   "execution_count": 82,
   "id": "ea8377d4-ec63-4b0b-adf1-2123c4d0fa77",
   "metadata": {},
   "outputs": [
    {
     "name": "stdout",
     "output_type": "stream",
     "text": [
      "[101   2   3]\n",
      "[101  12   3]\n"
     ]
    }
   ],
   "source": [
    "b = a.copy()\n",
    "b[1] = 12\n",
    "print(a)\n",
    "print(b)"
   ]
  },
  {
   "cell_type": "markdown",
   "id": "5fec7958-79ac-4a01-a56d-4d41ac37de76",
   "metadata": {},
   "source": [
    "# Mathematics"
   ]
  },
  {
   "cell_type": "code",
   "execution_count": 84,
   "id": "c464d23a-8202-4f52-b8f6-c587c806462f",
   "metadata": {},
   "outputs": [
    {
     "name": "stdout",
     "output_type": "stream",
     "text": [
      "[1 2 3 4]\n"
     ]
    }
   ],
   "source": [
    "a = np.array([1,2,3,4])\n",
    "print(a)"
   ]
  },
  {
   "cell_type": "code",
   "execution_count": 86,
   "id": "b99cf031-9238-4d5a-a3c9-8c40c32f39ee",
   "metadata": {},
   "outputs": [
    {
     "data": {
      "text/plain": [
       "array([3, 4, 5, 6])"
      ]
     },
     "execution_count": 86,
     "metadata": {},
     "output_type": "execute_result"
    }
   ],
   "source": [
    "a + 2 # it done for all corresponding elements of array"
   ]
  },
  {
   "cell_type": "code",
   "execution_count": 88,
   "id": "be706ff3-76b0-4a77-9d8e-c778bbb8eb73",
   "metadata": {},
   "outputs": [
    {
     "data": {
      "text/plain": [
       "array([-1,  0,  1,  2])"
      ]
     },
     "execution_count": 88,
     "metadata": {},
     "output_type": "execute_result"
    }
   ],
   "source": [
    "a - 2"
   ]
  },
  {
   "cell_type": "code",
   "execution_count": 89,
   "id": "7fbc08b4-36e4-443b-9e0f-3505faee5529",
   "metadata": {},
   "outputs": [
    {
     "data": {
      "text/plain": [
       "array([2, 4, 6, 8])"
      ]
     },
     "execution_count": 89,
     "metadata": {},
     "output_type": "execute_result"
    }
   ],
   "source": [
    "a * 2"
   ]
  },
  {
   "cell_type": "code",
   "execution_count": 90,
   "id": "8953f861-26e0-4874-8822-dc9ec69ae502",
   "metadata": {},
   "outputs": [
    {
     "data": {
      "text/plain": [
       "array([0.5, 1. , 1.5, 2. ])"
      ]
     },
     "execution_count": 90,
     "metadata": {},
     "output_type": "execute_result"
    }
   ],
   "source": [
    "a / 2"
   ]
  },
  {
   "cell_type": "code",
   "execution_count": 94,
   "id": "55fea979-f2f7-44c2-83d0-b9350b8ec2d3",
   "metadata": {},
   "outputs": [
    {
     "data": {
      "text/plain": [
       "array([1, 0, 1, 0], dtype=int32)"
      ]
     },
     "execution_count": 94,
     "metadata": {},
     "output_type": "execute_result"
    }
   ],
   "source": [
    "a % 2  # it make datatype bigger"
   ]
  },
  {
   "cell_type": "code",
   "execution_count": 92,
   "id": "24a9d2b0-f101-471b-ba3d-89dae6269b4b",
   "metadata": {},
   "outputs": [
    {
     "data": {
      "text/plain": [
       "array([3, 4, 5, 6])"
      ]
     },
     "execution_count": 92,
     "metadata": {},
     "output_type": "execute_result"
    }
   ],
   "source": [
    "a += 2\n",
    "a"
   ]
  },
  {
   "cell_type": "code",
   "execution_count": 93,
   "id": "241f40de-b15c-492d-ac86-4a16d7e75677",
   "metadata": {},
   "outputs": [
    {
     "data": {
      "text/plain": [
       "array([4, 4, 6, 6])"
      ]
     },
     "execution_count": 93,
     "metadata": {},
     "output_type": "execute_result"
    }
   ],
   "source": [
    "b = np.array([1,0,1,0])\n",
    "a + b"
   ]
  },
  {
   "cell_type": "code",
   "execution_count": 95,
   "id": "da9282da-cafc-4867-804f-2a546d76f4ea",
   "metadata": {},
   "outputs": [
    {
     "data": {
      "text/plain": [
       "array([ 9, 16, 25, 36])"
      ]
     },
     "execution_count": 95,
     "metadata": {},
     "output_type": "execute_result"
    }
   ],
   "source": [
    "a ** 2"
   ]
  },
  {
   "cell_type": "code",
   "execution_count": 100,
   "id": "5f3b0d16-4e84-49a0-928b-f243e075b3dc",
   "metadata": {},
   "outputs": [
    {
     "data": {
      "text/plain": [
       "array([ 0.14112001, -0.7568025 , -0.95892427, -0.2794155 ])"
      ]
     },
     "execution_count": 100,
     "metadata": {},
     "output_type": "execute_result"
    }
   ],
   "source": [
    "# Take the sin \n",
    "np.sin(a)"
   ]
  },
  {
   "cell_type": "markdown",
   "id": "28d9d2e6-3d2c-4ae7-ad34-3d4b7c7b9e00",
   "metadata": {},
   "source": [
    "## Linear algebra"
   ]
  },
  {
   "cell_type": "code",
   "execution_count": 4,
   "id": "5245587d-e6cd-4e19-8f8c-cd84b368ba9c",
   "metadata": {},
   "outputs": [],
   "source": [
    "import numpy as np"
   ]
  },
  {
   "cell_type": "code",
   "execution_count": 15,
   "id": "12058f2b-ba54-4ccd-8487-3fb10e674de8",
   "metadata": {},
   "outputs": [
    {
     "name": "stdout",
     "output_type": "stream",
     "text": [
      "[[1. 1. 1.]\n",
      " [1. 1. 1.]]\n",
      "[[2 2]\n",
      " [2 2]\n",
      " [2 2]]\n"
     ]
    },
    {
     "data": {
      "text/plain": [
       "array([[6., 6.],\n",
       "       [6., 6.]])"
      ]
     },
     "execution_count": 15,
     "metadata": {},
     "output_type": "execute_result"
    }
   ],
   "source": [
    "a = np.ones((2,3))\n",
    "print(a)\n",
    "\n",
    "b = np.full((3,2),2)\n",
    "print(b)\n",
    "\n",
    "# a*b  This cannot multiply matix\n",
    "np.matmul(a,b) # This help to multiply matrices"
   ]
  },
  {
   "cell_type": "code",
   "execution_count": 11,
   "id": "507c17f9-902d-4e44-a773-0daab57a79e8",
   "metadata": {},
   "outputs": [
    {
     "data": {
      "text/plain": [
       "1.0"
      ]
     },
     "execution_count": 11,
     "metadata": {},
     "output_type": "execute_result"
    }
   ],
   "source": [
    "# Find Determinant of a matrix\n",
    "c = np.identity(3)\n",
    "np.linalg.det(c)  # linalg = linear algebra and det = determinant"
   ]
  },
  {
   "cell_type": "markdown",
   "id": "39a19454-a206-4c39-b87c-b72d269b4b61",
   "metadata": {},
   "source": [
    "## Statistics"
   ]
  },
  {
   "cell_type": "code",
   "execution_count": 17,
   "id": "b1731028-ccef-43e8-86fe-ffad04257690",
   "metadata": {},
   "outputs": [
    {
     "name": "stdout",
     "output_type": "stream",
     "text": [
      "[[1 2 3]\n",
      " [4 5 6]]\n"
     ]
    }
   ],
   "source": [
    "stats = np.array([[1,2,3],[4,5,6]])\n",
    "print(stats)"
   ]
  },
  {
   "cell_type": "code",
   "execution_count": 21,
   "id": "7860a510-0c30-48ff-ac67-0a0917c63efc",
   "metadata": {},
   "outputs": [],
   "source": [
    "# Axis in numpy\n",
    "# axis = None mean find from all elements \n",
    "# axis = 0 mean find from rows of multi dimentional array\n",
    "# axis = 1 mean find from columns of multi dimentional array"
   ]
  },
  {
   "cell_type": "code",
   "execution_count": 26,
   "id": "87b63ffc-03a6-4ac0-88a7-cbb89446fc0f",
   "metadata": {},
   "outputs": [
    {
     "data": {
      "text/plain": [
       "array([1, 4])"
      ]
     },
     "execution_count": 26,
     "metadata": {},
     "output_type": "execute_result"
    }
   ],
   "source": [
    "np.min(stats,axis = 1) # it gives minimum column not minimum column value"
   ]
  },
  {
   "cell_type": "code",
   "execution_count": 27,
   "id": "8f2838e6-1af9-4774-bc58-4ce27bddf097",
   "metadata": {},
   "outputs": [
    {
     "data": {
      "text/plain": [
       "array([4, 5, 6])"
      ]
     },
     "execution_count": 27,
     "metadata": {},
     "output_type": "execute_result"
    }
   ],
   "source": [
    "np.max(stats, axis = 0)"
   ]
  },
  {
   "cell_type": "code",
   "execution_count": 30,
   "id": "b9568226-d21f-402a-a6dd-8ca69fcc1261",
   "metadata": {},
   "outputs": [
    {
     "data": {
      "text/plain": [
       "array([5, 7, 9])"
      ]
     },
     "execution_count": 30,
     "metadata": {},
     "output_type": "execute_result"
    }
   ],
   "source": [
    "np.sum(stats, axis = 0) # It adds row 1 with row2 corresponding elements"
   ]
  },
  {
   "cell_type": "markdown",
   "id": "31b003e7-8f0f-47a5-afcd-076aee805d28",
   "metadata": {},
   "source": [
    "## Reorganizing Arrays"
   ]
  },
  {
   "cell_type": "code",
   "execution_count": 39,
   "id": "0e61a0f1-f12a-44a4-adfa-c4790096fe1a",
   "metadata": {},
   "outputs": [
    {
     "name": "stdout",
     "output_type": "stream",
     "text": [
      "(2, 4)\n",
      "[[[1 2]\n",
      "  [3 4]]\n",
      "\n",
      " [[5 6]\n",
      "  [7 8]]]\n"
     ]
    }
   ],
   "source": [
    "before = np.array([[1,2,3,4],[5,6,7,8]])\n",
    "print(before.shape)    # it gives shape of array\n",
    "\n",
    "after = before.reshape((2,2,2)) # reshape previous array\n",
    "print(after)"
   ]
  },
  {
   "cell_type": "code",
   "execution_count": 45,
   "id": "1758fec8-96db-40d3-987e-df6c5d30a750",
   "metadata": {},
   "outputs": [
    {
     "data": {
      "text/plain": [
       "array([[1, 2, 3, 4],\n",
       "       [5, 6, 7, 8],\n",
       "       [1, 2, 3, 4],\n",
       "       [5, 6, 7, 8]])"
      ]
     },
     "execution_count": 45,
     "metadata": {},
     "output_type": "execute_result"
    }
   ],
   "source": [
    "# Vertically stacking vectors\n",
    "v1 = np.array([1,2,3,4]) \n",
    "v2 = np.array([5,6,7,8])\n",
    "# np.vstack([v1,v2])  here we restack array vertically must have same size/shape\n",
    "np.vstack([v1,v2,v1,v2])"
   ]
  },
  {
   "cell_type": "code",
   "execution_count": 49,
   "id": "244d9fc0-8162-4e17-8e0f-1797a57ef853",
   "metadata": {},
   "outputs": [
    {
     "data": {
      "text/plain": [
       "array([[1., 1., 1., 1., 0., 0.],\n",
       "       [1., 1., 1., 1., 0., 0.]])"
      ]
     },
     "execution_count": 49,
     "metadata": {},
     "output_type": "execute_result"
    }
   ],
   "source": [
    "# Horizointally stacking vectors\n",
    "h1 = np.ones((2,4))\n",
    "h2 = np.zeros((2,2))\n",
    "np.hstack((h1,h2))  # it stack them horizontally must have same rows but have differernt columns "
   ]
  },
  {
   "cell_type": "markdown",
   "id": "f7b4649d-75ae-403d-9e50-22298b4bff06",
   "metadata": {},
   "source": [
    "## Miscellaneous"
   ]
  },
  {
   "cell_type": "code",
   "execution_count": 56,
   "id": "23d06fd9-4ae8-44cf-9804-8e49bdfd647a",
   "metadata": {},
   "outputs": [
    {
     "data": {
      "text/plain": [
       "array([[  1.,  13.,  21.,  11., 196.,  75.,   4.,   3.,  34.,   6.,   7.,\n",
       "          8.,   0.,   1.,   2.,   3.,   4.,   5.],\n",
       "       [  3.,  42.,  12.,  33., 766.,  75.,   4.,  55.,   6.,   4.,   3.,\n",
       "          4.,   5.,   6.,   7.,   0.,  11.,  12.],\n",
       "       [  1.,  22.,  33.,  11., 999.,  11.,   2.,   1.,  78.,   0.,   1.,\n",
       "          2.,   9.,   8.,   7.,   1.,  76.,  88.]])"
      ]
     },
     "execution_count": 56,
     "metadata": {},
     "output_type": "execute_result"
    }
   ],
   "source": [
    "# Load data from a file\n",
    "filedata = np.genfromtxt('data.txt',delimiter=',') # by default datatype is float\n",
    "filedata.astype('int32') # it just make a copy of filedata array not replace it\n",
    "filedata"
   ]
  },
  {
   "cell_type": "code",
   "execution_count": 58,
   "id": "0e7e3d10-a27a-4cf3-9c60-25b7877eacf4",
   "metadata": {},
   "outputs": [
    {
     "data": {
      "text/plain": [
       "array([[  1,  13,  21,  11, 196,  75,   4,   3,  34,   6,   7,   8,   0,\n",
       "          1,   2,   3,   4,   5],\n",
       "       [  3,  42,  12,  33, 766,  75,   4,  55,   6,   4,   3,   4,   5,\n",
       "          6,   7,   0,  11,  12],\n",
       "       [  1,  22,  33,  11, 999,  11,   2,   1,  78,   0,   1,   2,   9,\n",
       "          8,   7,   1,  76,  88]])"
      ]
     },
     "execution_count": 58,
     "metadata": {},
     "output_type": "execute_result"
    }
   ],
   "source": [
    "# To solve this conflict\n",
    "filedata = filedata.astype('int32')\n",
    "filedata"
   ]
  },
  {
   "cell_type": "markdown",
   "id": "d8f0ee5a-10c2-4846-82d6-62fba86f039b",
   "metadata": {},
   "source": [
    "## Boolean masking and Advanced indexing"
   ]
  },
  {
   "cell_type": "code",
   "execution_count": 61,
   "id": "9a3b0816-602d-4318-bc2c-ce86083ba7c3",
   "metadata": {},
   "outputs": [
    {
     "data": {
      "text/plain": [
       "array([[False, False, False, False,  True,  True, False, False, False,\n",
       "        False, False, False, False, False, False, False, False, False],\n",
       "       [False, False, False, False,  True,  True, False,  True, False,\n",
       "        False, False, False, False, False, False, False, False, False],\n",
       "       [False, False, False, False,  True, False, False, False,  True,\n",
       "        False, False, False, False, False, False, False,  True,  True]])"
      ]
     },
     "execution_count": 61,
     "metadata": {},
     "output_type": "execute_result"
    }
   ],
   "source": [
    "filedata > 50  # it checks each elemenet which is  greater than 50 or not based on that it print true or false"
   ]
  },
  {
   "cell_type": "code",
   "execution_count": 62,
   "id": "09b58a80-99a5-45f1-a71e-7c5a3a6a372a",
   "metadata": {},
   "outputs": [
    {
     "data": {
      "text/plain": [
       "array([196,  75, 766,  75,  55, 999,  78,  76,  88])"
      ]
     },
     "execution_count": 62,
     "metadata": {},
     "output_type": "execute_result"
    }
   ],
   "source": [
    "filedata[filedata > 50] # it gives array of elements where size is greater than 50"
   ]
  },
  {
   "cell_type": "code",
   "execution_count": 66,
   "id": "858dd4a2-6603-44f5-a462-fb961e7aff3e",
   "metadata": {},
   "outputs": [
    {
     "data": {
      "text/plain": [
       "array([2, 3, 9])"
      ]
     },
     "execution_count": 66,
     "metadata": {},
     "output_type": "execute_result"
    }
   ],
   "source": [
    "# you can index with a list in numpy\n",
    "a = np.array([1,2,3,4,5,6,7,8,9])\n",
    "a[[1,2,8]] # give value at given indices"
   ]
  },
  {
   "cell_type": "code",
   "execution_count": 68,
   "id": "cce619cc-e3d8-456b-a94b-7faffb55fd75",
   "metadata": {},
   "outputs": [
    {
     "data": {
      "text/plain": [
       "array([False, False, False, False,  True,  True, False,  True,  True,\n",
       "       False, False, False, False, False, False, False,  True,  True])"
      ]
     },
     "execution_count": 68,
     "metadata": {},
     "output_type": "execute_result"
    }
   ],
   "source": [
    "np.any(filedata > 50,axis = 0) #here it takes to compare each row parallel by 50 and if any one value in column is greater than 50 then true"
   ]
  },
  {
   "cell_type": "code",
   "execution_count": 69,
   "id": "1659b271-466f-4331-bce0-f6cf2c1a46e9",
   "metadata": {},
   "outputs": [
    {
     "data": {
      "text/plain": [
       "array([False, False, False, False,  True, False, False, False, False,\n",
       "       False, False, False, False, False, False, False, False, False])"
      ]
     },
     "execution_count": 69,
     "metadata": {},
     "output_type": "execute_result"
    }
   ],
   "source": [
    "np.all(filedata > 50,axis = 0) #here it takes to compare each row parallel by 50 and if all values in column is greater than 50 then true"
   ]
  },
  {
   "cell_type": "code",
   "execution_count": 70,
   "id": "f741362e-a7d2-4372-b0d5-9b8d968a4bc1",
   "metadata": {},
   "outputs": [
    {
     "data": {
      "text/plain": [
       "array([False, False, False])"
      ]
     },
     "execution_count": 70,
     "metadata": {},
     "output_type": "execute_result"
    }
   ],
   "source": [
    "np.all(filedata > 50,axis = 1) #here it takes to compare each column by 50 and if all values in row is greater than 50 then true"
   ]
  },
  {
   "cell_type": "code",
   "execution_count": 72,
   "id": "45239f6f-d256-45ae-9bdb-7c3ae6ea54e4",
   "metadata": {},
   "outputs": [
    {
     "data": {
      "text/plain": [
       "array([ True,  True,  True])"
      ]
     },
     "execution_count": 72,
     "metadata": {},
     "output_type": "execute_result"
    }
   ],
   "source": [
    "np.any(filedata > 50,axis = 1) #here it takes to compare each column by 50 and if any values in row is greater than 50 then true"
   ]
  },
  {
   "cell_type": "code",
   "execution_count": 77,
   "id": "4aea0446-1545-4ae2-a0fe-17c56a481cb4",
   "metadata": {},
   "outputs": [
    {
     "data": {
      "text/plain": [
       "array([[ True,  True,  True,  True, False, False,  True,  True,  True,\n",
       "         True,  True,  True,  True,  True,  True,  True,  True,  True],\n",
       "       [ True,  True,  True,  True, False, False,  True, False,  True,\n",
       "         True,  True,  True,  True,  True,  True,  True,  True,  True],\n",
       "       [ True,  True,  True,  True, False,  True,  True,  True, False,\n",
       "         True,  True,  True,  True,  True,  True,  True, False, False]])"
      ]
     },
     "execution_count": 77,
     "metadata": {},
     "output_type": "execute_result"
    }
   ],
   "source": [
    "(~(filedata > 50) & (filedata <100)) # Give all values as true which lie between 50 to 100 and ~ mean not"
   ]
  },
  {
   "cell_type": "code",
   "execution_count": null,
   "id": "53a942d5-f01c-412d-8b34-28afe2234c0a",
   "metadata": {},
   "outputs": [],
   "source": []
  }
 ],
 "metadata": {
  "kernelspec": {
   "display_name": "Python 3 (ipykernel)",
   "language": "python",
   "name": "python3"
  },
  "language_info": {
   "codemirror_mode": {
    "name": "ipython",
    "version": 3
   },
   "file_extension": ".py",
   "mimetype": "text/x-python",
   "name": "python",
   "nbconvert_exporter": "python",
   "pygments_lexer": "ipython3",
   "version": "3.12.2"
  }
 },
 "nbformat": 4,
 "nbformat_minor": 5
}
